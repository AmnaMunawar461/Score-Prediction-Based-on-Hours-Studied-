{
  "nbformat": 4,
  "nbformat_minor": 0,
  "metadata": {
    "colab": {
      "name": "Score prediction .ipynb",
      "provenance": []
    },
    "kernelspec": {
      "name": "python3",
      "display_name": "Python 3"
    },
    "language_info": {
      "name": "python"
    }
  },
  "cells": [
    {
      "cell_type": "markdown",
      "metadata": {
        "id": "PREuhu3oinOf"
      },
      "source": [
        "Score Prediction Using Linear Regression  "
      ]
    },
    {
      "cell_type": "code",
      "metadata": {
        "id": "aUA83s4JRPDC"
      },
      "source": [
        "import numpy as np\n",
        "from sklearn.linear_model import LinearRegression\n",
        "from sklearn.model_selection import train_test_split\n",
        "import pandas as pd\n",
        "from matplotlib import pyplot as plt\n",
        "from sklearn.metrics import r2_score\n"
      ],
      "execution_count": 61,
      "outputs": []
    },
    {
      "cell_type": "code",
      "metadata": {
        "id": "evNAAm-vSvGh"
      },
      "source": [
        "data = pd.read_csv('/content/dataset.csv')"
      ],
      "execution_count": 5,
      "outputs": []
    },
    {
      "cell_type": "code",
      "metadata": {
        "id": "OJ1EkbiCU6Nj"
      },
      "source": [
        "X = data.loc[:,['hours']].values\n",
        "y = data.loc[:,['scores']].values"
      ],
      "execution_count": 64,
      "outputs": []
    },
    {
      "cell_type": "markdown",
      "metadata": {
        "id": "uYQ5Tj4JgJX5"
      },
      "source": [
        "The Scatter Plot for Hour vs Score"
      ]
    },
    {
      "cell_type": "code",
      "metadata": {
        "colab": {
          "base_uri": "https://localhost:8080/",
          "height": 279
        },
        "id": "TipAzHANW5W0",
        "outputId": "9fef38c1-8197-426f-e737-b0954103b1a2"
      },
      "source": [
        "plt.scatter(X,y)\n",
        "plt.xlabel('Hour')\n",
        "plt.ylabel('Score')\n",
        "plt.legend([\"blue\"],loc=\"upper left\")\n",
        "plt.show()"
      ],
      "execution_count": 93,
      "outputs": [
        {
          "output_type": "display_data",
          "data": {
            "image/png": "[encoded data removed]",
            "text/plain": [
              "<Figure size 432x288 with 1 Axes>"
            ]
          },
          "metadata": {
            "tags": [],
            "needs_background": "light"
          }
        }
      ]
    },
    {
      "cell_type": "code",
      "metadata": {
        "colab": {
          "base_uri": "https://localhost:8080/"
        },
        "id": "DKB7AV5QXlE6",
        "outputId": "1e1cd601-39ac-4083-ba9c-9fc55996dbe4"
      },
      "source": [
        "model = LinearRegression()\n",
        "model.fit(X,y)\n"
      ],
      "execution_count": 72,
      "outputs": [
        {
          "output_type": "execute_result",
          "data": {
            "text/plain": [
              "LinearRegression(copy_X=True, fit_intercept=True, n_jobs=None, normalize=False)"
            ]
          },
          "metadata": {
            "tags": []
          },
          "execution_count": 72
        }
      ]
    },
    {
      "cell_type": "markdown",
      "metadata": {
        "id": "9NcX0NcBeEL_"
      },
      "source": [
        "What will be the score if hours = 9.25 ?"
      ]
    },
    {
      "cell_type": "code",
      "metadata": {
        "colab": {
          "base_uri": "https://localhost:8080/"
        },
        "id": "mImPZB9PXs0_",
        "outputId": "59cdb982-b0a3-4684-dba2-b59fad5e3e5f"
      },
      "source": [
        "x_test = np.array([9.25]).reshape(-1,1)\n",
        "\n",
        "prediction = model.predict(x_test)\n",
        "print(prediction)\n",
        "\n"
      ],
      "execution_count": 80,
      "outputs": [
        {
          "output_type": "stream",
          "text": [
            "[[92.90985477]]\n"
          ],
          "name": "stdout"
        }
      ]
    },
    {
      "cell_type": "markdown",
      "metadata": {
        "id": "OhZdqqelev_1"
      },
      "source": [
        "So ,The Score for 9.25 hours is 92.90 !."
      ]
    }
  ]
}